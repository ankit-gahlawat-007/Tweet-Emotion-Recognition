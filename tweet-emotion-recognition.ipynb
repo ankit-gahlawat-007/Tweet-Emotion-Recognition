{
 "cells": [
  {
   "cell_type": "markdown",
   "id": "30e2fc9b-f54f-4a75-a75c-1ad2bcf5e60b",
   "metadata": {},
   "source": [
    "Step 1: Imports"
   ]
  },
  {
   "cell_type": "code",
   "execution_count": 278,
   "id": "a246c64f-e4a0-4ac3-8790-b7a56d31b6bf",
   "metadata": {
    "tags": []
   },
   "outputs": [],
   "source": [
    "%%capture\n",
    "\n",
    "!pip install nlp"
   ]
  },
  {
   "cell_type": "code",
   "execution_count": 280,
   "id": "327dfb72-571d-4283-93e0-2dba6a3fa4e4",
   "metadata": {
    "tags": []
   },
   "outputs": [
    {
     "name": "stdout",
     "output_type": "stream",
     "text": [
      "Using TensorFlow version 2.12.0\n"
     ]
    }
   ],
   "source": [
    "%matplotlib inline\n",
    "\n",
    "import tensorflow as tf\n",
    "import numpy as np\n",
    "import matplotlib.pyplot as plt\n",
    "import nlp\n",
    "import random\n",
    "\n",
    "def show_history(h):\n",
    "    epochs_trained = len(h.history['loss'])\n",
    "    plt.figure(figsize=(16, 6))\n",
    "\n",
    "    plt.subplot(1, 2, 1)\n",
    "    plt.plot(range(0, epochs_trained), h.history.get('accuracy'), label='Training')\n",
    "    plt.plot(range(0, epochs_trained), h.history.get('val_accuracy'), label='Validation')\n",
    "    plt.ylim([0., 1.])\n",
    "    plt.xlabel('Epochs')\n",
    "    plt.ylabel('Accuracy')\n",
    "    plt.legend()\n",
    "\n",
    "    plt.subplot(1, 2, 2)\n",
    "    plt.plot(range(0, epochs_trained), h.history.get('loss'), label='Training')\n",
    "    plt.plot(range(0, epochs_trained), h.history.get('val_loss'), label='Validation')\n",
    "    plt.xlabel('Epochs')\n",
    "    plt.ylabel('Loss')\n",
    "    plt.legend()\n",
    "    plt.show()\n",
    "    \n",
    "def show_confusion_matrix(y_true, y_pred, classes):\n",
    "    from sklearn.metrics import confusion_matrix\n",
    "    \n",
    "    cm = confusion_matrix(y_true, y_pred, normalize='true')\n",
    "\n",
    "    plt.figure(figsize=(8, 8))\n",
    "    sp = plt.subplot(1, 1, 1)\n",
    "    ctx = sp.matshow(cm)\n",
    "    plt.xticks(list(range(0, 6)), labels=classes)\n",
    "    plt.yticks(list(range(0, 6)), labels=classes)\n",
    "    plt.colorbar(ctx)\n",
    "    plt.show()\n",
    "    \n",
    "print('Using TensorFlow version', tf.__version__)"
   ]
  },
  {
   "cell_type": "markdown",
   "id": "f55d7c17-c725-4bfd-befe-72381267a0fa",
   "metadata": {},
   "source": [
    "Step 2: Fetching the data"
   ]
  },
  {
   "cell_type": "code",
   "execution_count": 281,
   "id": "7ca64b2d-4703-4b23-a381-75dc8c5215db",
   "metadata": {
    "tags": []
   },
   "outputs": [],
   "source": [
    "%%capture\n",
    "\n",
    "# Issue with dataset, so, downloading from a different source\n",
    "# link to the thread: https://github.com/dair-ai/emotion_dataset/issues/5\n",
    "# Dataset details are present here: https://huggingface.co/datasets/dair-ai/emotion\n",
    "\n",
    "!pip install datasets\n",
    "from datasets import load_dataset\n",
    "\n",
    "dataset = load_dataset('emotion')"
   ]
  },
  {
   "cell_type": "code",
   "execution_count": 282,
   "id": "7d01ab12-a239-45e1-b201-8dc9343dcca0",
   "metadata": {
    "tags": []
   },
   "outputs": [
    {
     "data": {
      "text/plain": [
       "DatasetDict({\n",
       "    train: Dataset({\n",
       "        features: ['text', 'label'],\n",
       "        num_rows: 16000\n",
       "    })\n",
       "    validation: Dataset({\n",
       "        features: ['text', 'label'],\n",
       "        num_rows: 2000\n",
       "    })\n",
       "    test: Dataset({\n",
       "        features: ['text', 'label'],\n",
       "        num_rows: 2000\n",
       "    })\n",
       "})"
      ]
     },
     "execution_count": 282,
     "metadata": {},
     "output_type": "execute_result"
    }
   ],
   "source": [
    "dataset"
   ]
  },
  {
   "cell_type": "code",
   "execution_count": 283,
   "id": "c9f499f6-9a63-48fc-b4aa-416eac7179e0",
   "metadata": {
    "tags": []
   },
   "outputs": [
    {
     "name": "stdout",
     "output_type": "stream",
     "text": [
      "['i didnt feel humiliated', 'i can go from feeling so hopeless to so damned hopeful just from being around someone who cares and is awake', 'im grabbing a minute to post i feel greedy wrong', 'i am ever feeling nostalgic about the fireplace i will know that it is still on the property', 'i am feeling grouchy']\n",
      "[0, 0, 3, 2, 3]\n"
     ]
    }
   ],
   "source": [
    "train = dataset['train']\n",
    "\n",
    "tweets = train['text']\n",
    "labels = train['label']\n",
    "\n",
    "print(tweets[:5])\n",
    "print(labels[:5])"
   ]
  },
  {
   "cell_type": "code",
   "execution_count": 284,
   "id": "76d0acd7-a60d-4129-9e22-1e33bd632dc4",
   "metadata": {
    "tags": []
   },
   "outputs": [],
   "source": [
    "# from the dataset, https://huggingface.co/datasets/dair-ai/emotion\n",
    "# we know, 0: sadness, 1:joy, 2:love, 3:anger, 4:fear, 5:surprise"
   ]
  },
  {
   "cell_type": "markdown",
   "id": "6c4ebbfa-4092-44ff-ba8a-2d648d584fe9",
   "metadata": {},
   "source": [
    "Step 3: Tokenizer"
   ]
  },
  {
   "cell_type": "code",
   "execution_count": 285,
   "id": "b6eeae75-bae8-4d49-be90-70e5b69335c7",
   "metadata": {
    "tags": []
   },
   "outputs": [],
   "source": [
    "from tensorflow.keras.preprocessing.text import Tokenizer"
   ]
  },
  {
   "cell_type": "code",
   "execution_count": 286,
   "id": "408042ad-3423-4147-8b8a-d1f9d5c23e0f",
   "metadata": {
    "tags": []
   },
   "outputs": [],
   "source": [
    "tokenizer = Tokenizer(num_words=10000, oov_token='<UNK>')\n",
    "tokenizer.fit_on_texts(tweets)"
   ]
  },
  {
   "cell_type": "code",
   "execution_count": 287,
   "id": "f3cb3d83-8f2b-4b5a-afbb-21cdbf08ad7c",
   "metadata": {
    "tags": []
   },
   "outputs": [
    {
     "data": {
      "text/plain": [
       "[[2, 139, 3, 679]]"
      ]
     },
     "execution_count": 287,
     "metadata": {},
     "output_type": "execute_result"
    }
   ],
   "source": [
    "# testing the tokenizer\n",
    "\n",
    "tokenizer.texts_to_sequences([tweets[0]])"
   ]
  },
  {
   "cell_type": "markdown",
   "id": "533449eb-defc-412f-9789-ca5f2f20ccfd",
   "metadata": {
    "tags": []
   },
   "source": [
    "Step 4: Padding and Truncating Sequences"
   ]
  },
  {
   "cell_type": "code",
   "execution_count": 288,
   "id": "202b7de8-72bb-4e1b-8174-4899de615be4",
   "metadata": {
    "tags": []
   },
   "outputs": [
    {
     "data": {
      "image/png": "[encoded data removed]",
      "text/plain": [
       "<Figure size 640x480 with 1 Axes>"
      ]
     },
     "metadata": {},
     "output_type": "display_data"
    }
   ],
   "source": [
    "# Let's check the length of the tweets\n",
    "\n",
    "lengths = [len(t.split(' ')) for t in tweets]\n",
    "\n",
    "plt.hist(lengths, bins = len(set(lengths)))\n",
    "plt.show()"
   ]
  },
  {
   "cell_type": "code",
   "execution_count": 289,
   "id": "9d4348ec-bc46-4d12-90de-bf6dd105d4b6",
   "metadata": {
    "tags": []
   },
   "outputs": [],
   "source": [
    "# For our model to run, we need to have same length for all the sequences\n",
    "\n",
    "maxlen = 50\n",
    "\n",
    "from tensorflow.keras.preprocessing.sequence import pad_sequences"
   ]
  },
  {
   "cell_type": "code",
   "execution_count": 290,
   "id": "fbd5d805-cee1-4146-bc82-277e6ee3fdcd",
   "metadata": {
    "tags": []
   },
   "outputs": [],
   "source": [
    "def get_sequences(tokenizer, tweets):\n",
    "    sequences = tokenizer.texts_to_sequences(tweets)\n",
    "    padded = pad_sequences(sequences, truncating='post', padding='post',maxlen=maxlen)\n",
    "    return padded"
   ]
  },
  {
   "cell_type": "code",
   "execution_count": 291,
   "id": "5d4b5dce-5db4-44c0-965d-71f6f3418f3b",
   "metadata": {
    "tags": []
   },
   "outputs": [],
   "source": [
    "padded_train_seq = get_sequences(tokenizer, tweets)"
   ]
  },
  {
   "cell_type": "code",
   "execution_count": 292,
   "id": "8e6bf337-2473-4b2f-a3d8-9286f35f7db1",
   "metadata": {
    "tags": []
   },
   "outputs": [
    {
     "data": {
      "text/plain": [
       "array([  2, 139,   3, 679,   0,   0,   0,   0,   0,   0,   0,   0,   0,\n",
       "         0,   0,   0,   0,   0,   0,   0,   0,   0,   0,   0,   0,   0,\n",
       "         0,   0,   0,   0,   0,   0,   0,   0,   0,   0,   0,   0,   0,\n",
       "         0,   0,   0,   0,   0,   0,   0,   0,   0,   0,   0], dtype=int32)"
      ]
     },
     "execution_count": 292,
     "metadata": {},
     "output_type": "execute_result"
    }
   ],
   "source": [
    "padded_train_seq[0]"
   ]
  },
  {
   "cell_type": "markdown",
   "id": "027a0442-e602-4eef-9adf-521cd26e5563",
   "metadata": {},
   "source": [
    "Step 5: Labels"
   ]
  },
  {
   "cell_type": "code",
   "execution_count": 293,
   "id": "d17301c3-4352-4434-8ea3-ae57673e8afa",
   "metadata": {
    "tags": []
   },
   "outputs": [
    {
     "name": "stdout",
     "output_type": "stream",
     "text": [
      "{0, 1, 2, 3, 4, 5}\n"
     ]
    }
   ],
   "source": [
    "classes = set(labels)\n",
    "print(classes)"
   ]
  },
  {
   "cell_type": "code",
   "execution_count": 294,
   "id": "881d9ae8-d8ac-47ce-beec-03ba8cf220d3",
   "metadata": {
    "tags": []
   },
   "outputs": [
    {
     "data": {
      "image/png": "[encoded data removed]",
      "text/plain": [
       "<Figure size 640x480 with 1 Axes>"
      ]
     },
     "metadata": {},
     "output_type": "display_data"
    }
   ],
   "source": [
    "plt.hist(labels)\n",
    "plt.show()"
   ]
  },
  {
   "cell_type": "code",
   "execution_count": 295,
   "id": "9951f405-8603-40da-9c47-a1a4591b41ec",
   "metadata": {
    "tags": []
   },
   "outputs": [],
   "source": [
    "# Class imbalance problem above, since some have a lot of examples, while others have comparitively less\n",
    "# Not solving this in the current notebook"
   ]
  },
  {
   "cell_type": "code",
   "execution_count": 296,
   "id": "62ae5d2e-4da8-4da3-bfbe-ebe4ccad686d",
   "metadata": {
    "tags": []
   },
   "outputs": [],
   "source": [
    "index_to_class = {0: 'sadness', 1:'joy', 2:'love', 3:'anger', 4:'fear', 5:'surprise'}\n",
    "class_to_index = {'sadness': 0, 'joy': 1, 'love': 2, 'anger': 3, 'fear': 4, 'surprise': 5}"
   ]
  },
  {
   "cell_type": "markdown",
   "id": "b934003f-909a-424c-bc8f-ed8ede6f93e3",
   "metadata": {
    "tags": []
   },
   "source": [
    "Step 5: Creating the model"
   ]
  },
  {
   "cell_type": "code",
   "execution_count": 297,
   "id": "9635acd1-552a-413f-a04a-02098aaab7d1",
   "metadata": {
    "tags": []
   },
   "outputs": [],
   "source": [
    "model = tf.keras.models.Sequential([\n",
    "    tf.keras.layers.Embedding(10000, 16, input_length=maxlen),\n",
    "    tf.keras.layers.Bidirectional(tf.keras.layers.LSTM(20, return_sequences=True)),\n",
    "    tf.keras.layers.Bidirectional(tf.keras.layers.LSTM(20)),\n",
    "    tf.keras.layers.Dense(6, activation='softmax')\n",
    "])\n",
    "\n",
    "model.compile(\n",
    "    loss = 'sparse_categorical_crossentropy',\n",
    "    optimizer = 'adam',\n",
    "    metrics = ['accuracy']  \n",
    ")"
   ]
  },
  {
   "cell_type": "code",
   "execution_count": 298,
   "id": "f04183b7-4606-4a7a-b6f8-7d38e3882e98",
   "metadata": {
    "tags": []
   },
   "outputs": [
    {
     "name": "stdout",
     "output_type": "stream",
     "text": [
      "Model: \"sequential_6\"\n",
      "_________________________________________________________________\n",
      " Layer (type)                Output Shape              Param #   \n",
      "=================================================================\n",
      " embedding_6 (Embedding)     (None, 50, 16)            160000    \n",
      "                                                                 \n",
      " bidirectional_12 (Bidirecti  (None, 50, 40)           5920      \n",
      " onal)                                                           \n",
      "                                                                 \n",
      " bidirectional_13 (Bidirecti  (None, 40)               9760      \n",
      " onal)                                                           \n",
      "                                                                 \n",
      " dense_6 (Dense)             (None, 6)                 246       \n",
      "                                                                 \n",
      "=================================================================\n",
      "Total params: 175,926\n",
      "Trainable params: 175,926\n",
      "Non-trainable params: 0\n",
      "_________________________________________________________________\n"
     ]
    }
   ],
   "source": [
    "model.summary()"
   ]
  },
  {
   "cell_type": "markdown",
   "id": "38fa6fa5-ba10-4a29-bafa-4e14932e04f2",
   "metadata": {},
   "source": [
    "Step 6: Train the model"
   ]
  },
  {
   "cell_type": "code",
   "execution_count": 299,
   "id": "90d2b34f-d76e-4099-9df4-a2df813c4847",
   "metadata": {
    "tags": []
   },
   "outputs": [],
   "source": [
    "# Let's prepare the validation set\n",
    "\n",
    "val = dataset['validation']\n",
    "\n",
    "val_tweets = val['text']\n",
    "val_labels = val['label']\n",
    "\n",
    "val_seq = get_sequences(tokenizer, val_tweets)"
   ]
  },
  {
   "cell_type": "code",
   "execution_count": null,
   "id": "bb11ab98-b821-441c-8743-2d2e135c36ed",
   "metadata": {
    "tags": []
   },
   "outputs": [
    {
     "name": "stdout",
     "output_type": "stream",
     "text": [
      "Epoch 1/20\n",
      "500/500 [==============================] - 12s 17ms/step - loss: 1.2650 - accuracy: 0.5026 - val_loss: 0.7924 - val_accuracy: 0.7260\n",
      "Epoch 2/20\n",
      "500/500 [==============================] - 7s 15ms/step - loss: 0.5340 - accuracy: 0.8192 - val_loss: 0.5696 - val_accuracy: 0.8125\n",
      "Epoch 3/20\n",
      "500/500 [==============================] - 8s 16ms/step - loss: 0.3467 - accuracy: 0.8843 - val_loss: 0.5195 - val_accuracy: 0.8365\n",
      "Epoch 4/20\n",
      "500/500 [==============================] - 8s 16ms/step - loss: 0.2545 - accuracy: 0.9178 - val_loss: 0.4473 - val_accuracy: 0.8620\n",
      "Epoch 5/20\n",
      "500/500 [==============================] - 8s 16ms/step - loss: 0.1952 - accuracy: 0.9381 - val_loss: 0.4356 - val_accuracy: 0.8680\n",
      "Epoch 6/20\n",
      "500/500 [==============================] - 7s 15ms/step - loss: 0.1487 - accuracy: 0.9538 - val_loss: 0.4552 - val_accuracy: 0.8755\n",
      "Epoch 7/20\n",
      "500/500 [==============================] - 7s 14ms/step - loss: 0.1221 - accuracy: 0.9613 - val_loss: 0.5226 - val_accuracy: 0.8715\n",
      "Epoch 8/20\n",
      "500/500 [==============================] - 8s 16ms/step - loss: 0.1065 - accuracy: 0.9663 - val_loss: 0.4453 - val_accuracy: 0.8820\n",
      "Epoch 9/20\n",
      "500/500 [==============================] - 7s 15ms/step - loss: 0.0849 - accuracy: 0.9737 - val_loss: 0.4476 - val_accuracy: 0.8820\n",
      "Epoch 10/20\n",
      "500/500 [==============================] - 7s 14ms/step - loss: 0.0848 - accuracy: 0.9743 - val_loss: 0.4389 - val_accuracy: 0.8930\n",
      "Epoch 11/20\n",
      "500/500 [==============================] - 7s 15ms/step - loss: 0.0713 - accuracy: 0.9772 - val_loss: 0.4778 - val_accuracy: 0.8850\n",
      "Epoch 12/20\n",
      "113/500 [=====>........................] - ETA: 5s - loss: 0.0440 - accuracy: 0.9876"
     ]
    }
   ],
   "source": [
    "train_labels = np.array(labels)\n",
    "val_labels = np.array(val_labels)\n",
    "\n",
    "h = model.fit(\n",
    "    padded_train_seq, train_labels,\n",
    "    validation_data=(val_seq, val_labels),\n",
    "    epochs = 20,\n",
    "    callbacks = [\n",
    "        tf.keras.callbacks.EarlyStopping(monitor = 'val_accuracy', patience = 2)\n",
    "    ]\n",
    ")"
   ]
  },
  {
   "cell_type": "markdown",
   "id": "1759fe97-4bab-4beb-ab42-2991302d691f",
   "metadata": {},
   "source": [
    "Step 7: Evaluating the model"
   ]
  },
  {
   "cell_type": "code",
   "execution_count": null,
   "id": "eefd76b9-61f4-4a74-98ed-d85f1f50d20c",
   "metadata": {
    "tags": []
   },
   "outputs": [],
   "source": [
    "# Let's visualise the training history\n",
    "\n",
    "show_history(h)"
   ]
  },
  {
   "cell_type": "code",
   "execution_count": null,
   "id": "f1a00a0d-605d-4cf5-a768-89fe9611168c",
   "metadata": {
    "tags": []
   },
   "outputs": [],
   "source": [
    "# Prepare the test set\n",
    "\n",
    "test = dataset['test']\n",
    "\n",
    "test_tweets = test['text']\n",
    "test_labels = test['label']\n",
    "\n",
    "test_seq = get_sequences(tokenizer, test_tweets)\n",
    "test_labels = np.array(test_labels)"
   ]
  },
  {
   "cell_type": "code",
   "execution_count": 273,
   "id": "13850c70-d8e1-4490-a28a-a6d5cdc435d0",
   "metadata": {
    "tags": []
   },
   "outputs": [
    {
     "name": "stdout",
     "output_type": "stream",
     "text": [
      "63/63 [==============================] - 0s 4ms/step - loss: 0.3799 - accuracy: 0.8870\n"
     ]
    }
   ],
   "source": [
    "_ = model.evaluate(test_seq, test_labels)"
   ]
  },
  {
   "cell_type": "code",
   "execution_count": 274,
   "id": "a20dd25e-e612-4ac0-9e2e-10571a10d07f",
   "metadata": {
    "tags": []
   },
   "outputs": [
    {
     "name": "stdout",
     "output_type": "stream",
     "text": [
      "i feel like some heroine of some tragic manga\n",
      "0\n",
      "sadness\n",
      "1/1 [==============================] - 1s 622ms/step\n",
      "sadness\n"
     ]
    }
   ],
   "source": [
    "# Let's check at individual predictions on the test set\n",
    "\n",
    "i = random.randint(0, len(test_labels) - 1)\n",
    "\n",
    "print(test_tweets[i])\n",
    "print(test_labels[i])\n",
    "print(index_to_class[test_labels[i]])\n",
    "\n",
    "pred = model.predict(np.expand_dims(test_seq[i], axis=0))[0]\n",
    "pred_class = index_to_class[np.argmax(pred).astype('uint8')]\n",
    "print(pred_class)"
   ]
  },
  {
   "cell_type": "code",
   "execution_count": 275,
   "id": "6a781335-0187-418a-b1bb-84ca562357c3",
   "metadata": {
    "tags": []
   },
   "outputs": [
    {
     "name": "stdout",
     "output_type": "stream",
     "text": [
      "63/63 [==============================] - 0s 4ms/step\n"
     ]
    },
    {
     "data": {
      "image/png": "[encoded data removed]",
      "text/plain": [
       "<Figure size 800x800 with 2 Axes>"
      ]
     },
     "metadata": {},
     "output_type": "display_data"
    }
   ],
   "source": [
    "# Let's have all the predictions on the test set\n",
    "\n",
    "all_preds = model.predict(test_seq)\n",
    "pred_classes=np.argmax(all_preds,axis=1)\n",
    "\n",
    "\n",
    "show_confusion_matrix(test_labels, pred_classes, list(classes))"
   ]
  },
  {
   "cell_type": "markdown",
   "id": "78f03f50-849e-474a-959d-531aa99ce05c",
   "metadata": {},
   "source": [
    "Step 8: Let's evaluate on any random data given by user"
   ]
  },
  {
   "cell_type": "code",
   "execution_count": 277,
   "id": "60819f46-8e90-446c-89e3-e4b4068f0d91",
   "metadata": {
    "tags": []
   },
   "outputs": [
    {
     "name": "stdout",
     "output_type": "stream",
     "text": [
      "1/1 [==============================] - 0s 15ms/step\n"
     ]
    },
    {
     "data": {
      "text/plain": [
       "['sadness']"
      ]
     },
     "execution_count": 277,
     "metadata": {},
     "output_type": "execute_result"
    }
   ],
   "source": [
    "# Create a list of tweets, any random thing here\n",
    "# Note: It might not be very accurate, so just for fun\n",
    "\n",
    "user_input_tweets = ['I am feeling very hungry, need to grab something to eat']\n",
    "\n",
    "# Padding and truncating with the tokenizer\n",
    "tweets_seq = get_sequences(tokenizer, user_input_tweets)\n",
    "\n",
    "# Predict using the model\n",
    "emotion_pred = model.predict(tweets_seq)\n",
    "emotion_int = np.argmax(emotion_pred,axis=1).astype('uint8')\n",
    "emotion = [index_to_class[emo] for emo in emotion_int]\n",
    "emotion"
   ]
  },
  {
   "cell_type": "code",
   "execution_count": null,
   "id": "abab4e06-21c5-4f57-815b-ec6106617f85",
   "metadata": {},
   "outputs": [],
   "source": []
  },
  {
   "cell_type": "code",
   "execution_count": null,
   "id": "9cfdfcf8-4716-4996-9d49-d92c965dcad4",
   "metadata": {},
   "outputs": [],
   "source": []
  }
 ],
 "metadata": {
  "kernelspec": {
   "display_name": "Python 3 (ipykernel)",
   "language": "python",
   "name": "python3"
  },
  "language_info": {
   "codemirror_mode": {
    "name": "ipython",
    "version": 3
   },
   "file_extension": ".py",
   "mimetype": "text/x-python",
   "name": "python",
   "nbconvert_exporter": "python",
   "pygments_lexer": "ipython3",
   "version": "3.10.10"
  }
 },
 "nbformat": 4,
 "nbformat_minor": 5
}
